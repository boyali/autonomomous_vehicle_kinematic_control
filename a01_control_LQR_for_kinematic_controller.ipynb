{
 "cells": [
  {
   "cell_type": "markdown",
   "metadata": {},
   "source": [
    "In this notebook, we show how to compute kinematic controller coefficients for the model given in the paper `A Tutorial On Autonomous Vehicle Steering Controller Design, Simulation and Implementation`. \n",
    "\n"
   ]
  },
  {
   "cell_type": "code",
   "execution_count": 23,
   "metadata": {
    "inputHidden": false,
    "outputHidden": false
   },
   "outputs": [],
   "source": [
    "from __future__ import division, print_function \n",
    "import numpy as np\n",
    "import matplotlib.pyplot as plt \n",
    "\n",
    "# for the requirements have a look at https://python-control.readthedocs.io/en/0.8.0/intro.html\n",
    "\n",
    "\n",
    "import scipy.linalg"
   ]
  },
  {
   "cell_type": "code",
   "execution_count": 24,
   "metadata": {},
   "outputs": [],
   "source": [
    "# import mpld3\n",
    "# mpld3.enable_notebook()\n",
    "\n",
    "import matplotlib.style as style\n",
    " \n",
    "\n",
    "import seaborn as sns\n",
    "from matplotlib.offsetbox import AnchoredText\n",
    "from matplotlib.ticker import FuncFormatter, StrMethodFormatter"
   ]
  },
  {
   "cell_type": "code",
   "execution_count": 25,
   "metadata": {},
   "outputs": [],
   "source": [
    "pct_formatter = StrMethodFormatter('{x:.1%}')\n",
    "\n",
    "# There are five preset seaborn themes: darkgrid, whitegrid, dark, white, and ticks\n",
    "sns.set_style(\"darkgrid\")\n",
    "# sns.set() \n",
    "# blue, green, *_ = sns.color_palette()\n",
    "\n",
    "plt.rc('figure', figsize=(12, 10))\n",
    "\n",
    "LABELSIZE = 14\n",
    "plt.rc('axes', labelsize=LABELSIZE)\n",
    "plt.rc('axes', titlesize=LABELSIZE)\n",
    "plt.rc('figure', titlesize=LABELSIZE)\n",
    "plt.rc('legend', fontsize=LABELSIZE)\n",
    "plt.rc('xtick', labelsize=LABELSIZE)\n",
    "plt.rc('ytick', labelsize=LABELSIZE)\n",
    "plt.rc('axes', labelpad=18)\n",
    "# plt.rc('text', usetex=True)\n",
    "# plt.rc('font', family='serif')"
   ]
  },
  {
   "cell_type": "markdown",
   "metadata": {
    "inputHidden": false,
    "outputHidden": false
   },
   "source": [
    " \n",
    "**For kinematic vehicle model, vehicle velocity and the length between axles are enough**\n",
    " "
   ]
  },
  {
   "cell_type": "code",
   "execution_count": 26,
   "metadata": {
    "inputHidden": false,
    "outputHidden": false
   },
   "outputs": [],
   "source": [
    "def dlqr(A,B,Q,R):\n",
    "    \"\"\"Solve the discrete time lqr controller.\n",
    "\n",
    "    x[k+1] = A x[k] + B u[k]\n",
    "\n",
    "    cost = sum x[k].T*Q*x[k] + u[k].T*R*u[k]\n",
    "    \"\"\"\n",
    "    #ref Bertsekas, p.151\n",
    "\n",
    "    #first, try to solve the ricatti equation\n",
    "    X = np.matrix(scipy.linalg.solve_discrete_are(A, B, Q, R))\n",
    "\n",
    "    #compute the LQR gain\n",
    "    K = np.matrix(scipy.linalg.inv(B.T*X*B+R)*(B.T*X*A))\n",
    "\n",
    "    eigVals, eigVecs = scipy.linalg.eig(A-B*K)\n",
    " \n",
    "    return K, X, eigVals\n"
   ]
  },
  {
   "cell_type": "code",
   "execution_count": 27,
   "metadata": {
    "inputHidden": false,
    "outputHidden": false
   },
   "outputs": [],
   "source": [
    "V = 10 # m/s\n",
    "L = 2.9  # m - distance between the axles"
   ]
  },
  {
   "cell_type": "code",
   "execution_count": 28,
   "metadata": {
    "inputHidden": false,
    "outputHidden": false
   },
   "outputs": [],
   "source": [
    "A = np.array([[0, V], [0, 0]])          # transition matrix of the continous system\n",
    "B = np.array([0, V / L]).reshape(2,1)   # control matrix of the continous system \n",
    "\n",
    "dt = 0.1 # discrete time step"
   ]
  },
  {
   "cell_type": "markdown",
   "metadata": {
    "inputHidden": false,
    "outputHidden": false
   },
   "source": [
    "### Discretisize the matrices Ad = I + dt*A and Bd = B*dt\n",
    "x(k+1) = (I+AT)x + BTu"
   ]
  },
  {
   "cell_type": "code",
   "execution_count": 29,
   "metadata": {
    "inputHidden": false,
    "outputHidden": false
   },
   "outputs": [
    {
     "data": {
      "text/plain": [
       "array([[1., 1.],\n",
       "       [0., 1.]])"
      ]
     },
     "execution_count": 29,
     "metadata": {},
     "output_type": "execute_result"
    }
   ],
   "source": [
    "Ad = np.eye(2) + dt*A\n",
    "Ad"
   ]
  },
  {
   "cell_type": "code",
   "execution_count": 30,
   "metadata": {
    "inputHidden": false,
    "outputHidden": false
   },
   "outputs": [
    {
     "data": {
      "text/plain": [
       "array([[0.        ],\n",
       "       [0.34482759]])"
      ]
     },
     "execution_count": 30,
     "metadata": {},
     "output_type": "execute_result"
    }
   ],
   "source": [
    "Bd = B*dt\n",
    "Bd"
   ]
  },
  {
   "cell_type": "markdown",
   "metadata": {
    "inputHidden": false,
    "outputHidden": false
   },
   "source": [
    "## Optimization Weights"
   ]
  },
  {
   "cell_type": "code",
   "execution_count": 31,
   "metadata": {
    "inputHidden": false,
    "outputHidden": false
   },
   "outputs": [],
   "source": [
    "Q = np.eye(2) # State cost matrix \n",
    "R =5 # for the control cost "
   ]
  },
  {
   "cell_type": "code",
   "execution_count": 32,
   "metadata": {
    "inputHidden": false,
    "outputHidden": false
   },
   "outputs": [
    {
     "data": {
      "text/plain": [
       "array([[0., 1.],\n",
       "       [0., 0.]])"
      ]
     },
     "execution_count": 32,
     "metadata": {},
     "output_type": "execute_result"
    }
   ],
   "source": [
    "dt*A"
   ]
  },
  {
   "cell_type": "code",
   "execution_count": 33,
   "metadata": {
    "inputHidden": false,
    "outputHidden": false
   },
   "outputs": [
    {
     "data": {
      "text/plain": [
       "matrix([[0.33472894, 1.61009874]])"
      ]
     },
     "execution_count": 33,
     "metadata": {},
     "output_type": "execute_result"
    }
   ],
   "source": [
    "K, P, eigVecs = dlqr(Ad, Bd, Q, R)\n",
    "K"
   ]
  },
  {
   "cell_type": "markdown",
   "metadata": {},
   "source": [
    "## Create parametric vehicle model"
   ]
  },
  {
   "cell_type": "code",
   "execution_count": 34,
   "metadata": {},
   "outputs": [],
   "source": [
    "def vehicle_model(V=2, dt=0.1):\n",
    "    ''' V is the longitudinal speed Vx, dt is the discretization step'''\n",
    "    \n",
    "    # model= {'Ad':None, 'Bd':None} # model dictionary\n",
    "    L = 2.9  # m - distance between the axles\n",
    "    \n",
    "    A = np.array([[0, V], [0, 0]])          # transition matrix of the continous system Eq.30 in the paper\n",
    "    B = np.array([0, V / L]).reshape(2,1)   # control matrix of the continous system \n",
    "    \n",
    "    # Discretisize the state transition and the control matrix\n",
    "    Ad = np.eye(2) + dt*A\n",
    "    Bd = B*dt\n",
    "    \n",
    "    # model['Ad'] = Ad\n",
    "    # model['Bd'] = Bd\n",
    "    \n",
    "    return Ad, Bd\n",
    "    "
   ]
  },
  {
   "cell_type": "code",
   "execution_count": 35,
   "metadata": {},
   "outputs": [
    {
     "data": {
      "text/plain": [
       "(array([[1. , 0.5],\n",
       "        [0. , 1. ]]),\n",
       " array([[0.        ],\n",
       "        [0.17241379]]))"
      ]
     },
     "execution_count": 35,
     "metadata": {},
     "output_type": "execute_result"
    }
   ],
   "source": [
    "vehicle_model(V=5)"
   ]
  },
  {
   "cell_type": "markdown",
   "metadata": {},
   "source": [
    "## Create coefficients for a range of velocities"
   ]
  },
  {
   "cell_type": "code",
   "execution_count": 49,
   "metadata": {},
   "outputs": [],
   "source": [
    "k_ey_list = [] # feedback coefficient for the lateral error e_y\n",
    "k_epsi_list = [] # feedback coefficient for the yaw error e_ψ \n",
    "V_list = np.arange(1, 15, 1).tolist()\n",
    " "
   ]
  },
  {
   "cell_type": "code",
   "execution_count": 37,
   "metadata": {},
   "outputs": [
    {
     "data": {
      "text/plain": [
       "(array([[1. , 0. ],\n",
       "        [0. , 0.1]]),\n",
       " 5)"
      ]
     },
     "execution_count": 37,
     "metadata": {},
     "output_type": "execute_result"
    }
   ],
   "source": [
    "Q = np.eye(2)\n",
    "Q[1, 1] = 0.1\n",
    "R = 5 \n",
    "Q, R"
   ]
  },
  {
   "cell_type": "code",
   "execution_count": 38,
   "metadata": {},
   "outputs": [],
   "source": [
    "for k in range(len(V_list)):\n",
    "    \n",
    "    Vk = V_list[k]\n",
    "    Ad, Bd = vehicle_model(Vk)\n",
    "    \n",
    "    K, P, eigVecs = dlqr(Ad, Bd, Q, R)\n",
    "    K = K.tolist()[0]\n",
    "    \n",
    "    k_ey_list.append(K[0])\n",
    "    k_epsi_list.append(K[1])\n",
    "    \n",
    "    #print(V_list[k])"
   ]
  },
  {
   "cell_type": "code",
   "execution_count": 39,
   "metadata": {},
   "outputs": [
    {
     "data": {
      "text/plain": [
       "Text(0, 0.5, 'Controller Gains')"
      ]
     },
     "execution_count": 39,
     "metadata": {},
     "output_type": "execute_result"
    },
    {
     "data": {
      "image/png": "[encoded data removed]",
      "text/plain": [
       "<Figure size 864x720 with 1 Axes>"
      ]
     },
     "metadata": {},
     "output_type": "display_data"
    }
   ],
   "source": [
    "plt.plot(V_list, k_ey_list,label='Feedback for e_y')\n",
    "plt.plot(V_list, k_epsi_list, label='Feedback for e_psi')\n",
    "plt.title('State Feedback Gain Coefficients')\n",
    "plt.legend()\n",
    "plt.xlabel('Vehicle Speed m/s')\n",
    "plt.ylabel('Controller Gains')"
   ]
  },
  {
   "cell_type": "markdown",
   "metadata": {},
   "source": [
    "### Fit Linear Model to k_ey, k_epsi"
   ]
  },
  {
   "cell_type": "code",
   "execution_count": 40,
   "metadata": {},
   "outputs": [],
   "source": [
    "def linear_models(V, k0, k1, vmin, vmax):\n",
    "    λ_vel = (V - vmin) / (vmax-vmin)\n",
    "    \n",
    "    k = k0 + λ_vel * (k1-k0)\n",
    "    \n",
    "    return k"
   ]
  },
  {
   "cell_type": "code",
   "execution_count": 41,
   "metadata": {},
   "outputs": [],
   "source": [
    "k_ey_list_lin = []\n",
    "k_epsi_list_lin = []\n",
    "\n",
    "vmin = V_list[0]\n",
    "vmax = V_list[-1]\n",
    "\n"
   ]
  },
  {
   "cell_type": "code",
   "execution_count": 42,
   "metadata": {},
   "outputs": [],
   "source": [
    "for k in range(len(V_list)):\n",
    "    \n",
    "    Vk = V_list[k]\n",
    "    \n",
    "    key_lin = linear_models(Vk, k_ey_list[0], k_ey_list[-1], vmin, vmax)\n",
    "    kepsi_lin = linear_models(Vk, k_epsi_list[0], k_epsi_list[-1], vmin, vmax)\n",
    "    \n",
    "    k_ey_list_lin.append(key_lin)\n",
    "    k_epsi_list_lin.append(kepsi_lin)\n",
    "    # print(kepsi_lin)\n",
    "    "
   ]
  },
  {
   "cell_type": "code",
   "execution_count": 43,
   "metadata": {},
   "outputs": [
    {
     "data": {
      "text/plain": [
       "<matplotlib.legend.Legend at 0x7effa5ef9fd0>"
      ]
     },
     "execution_count": 43,
     "metadata": {},
     "output_type": "execute_result"
    },
    {
     "data": {
      "image/png": "[encoded data removed]",
      "text/plain": [
       "<Figure size 864x720 with 1 Axes>"
      ]
     },
     "metadata": {},
     "output_type": "display_data"
    }
   ],
   "source": [
    "plt.plot(V_list, k_ey_list,label='Feedback for e_y')\n",
    "plt.plot(V_list, k_epsi_list, label='Feedback for e_psi')\n",
    "\n",
    "\n",
    "plt.plot(V_list, k_ey_list_lin, '-.', label='Linear approximation k_ey')\n",
    "plt.plot(V_list, k_epsi_list_lin, '-.', label='Linear approximation k_ey')\n",
    "\n",
    "plt.title('State Feedback Gain Coefficients')\n",
    "plt.legend()"
   ]
  },
  {
   "cell_type": "code",
   "execution_count": 44,
   "metadata": {},
   "outputs": [
    {
     "data": {
      "text/plain": [
       "[0.43491898919423294,\n",
       " 0.42295790973088676,\n",
       " 0.4113171013358727,\n",
       " 0.3999840512836928,\n",
       " 0.3889469629699572,\n",
       " 0.37819472938140786,\n",
       " 0.36771690704145416,\n",
       " 0.3575036904743757,\n",
       " 0.34754588719876767,\n",
       " 0.3378348932330086,\n",
       " 0.328362669069621,\n",
       " 0.3191217160531123,\n",
       " 0.31010505307733005,\n",
       " 0.3013061935025683]"
      ]
     },
     "execution_count": 44,
     "metadata": {},
     "output_type": "execute_result"
    }
   ],
   "source": [
    "k_ey_list"
   ]
  },
  {
   "cell_type": "code",
   "execution_count": 45,
   "metadata": {},
   "outputs": [
    {
     "data": {
      "text/plain": [
       "[1.6160854604675414,\n",
       " 1.6148205601623082,\n",
       " 1.6129435009194382,\n",
       " 1.6104561240657582,\n",
       " 1.607361021381756,\n",
       " 1.6036615487753192,\n",
       " 1.5993618435005015,\n",
       " 1.594466844641269,\n",
       " 1.5889823165042174,\n",
       " 1.5829148744895065,\n",
       " 1.5762720129232781,\n",
       " 1.5690621342454767,\n",
       " 1.561294578854867,\n",
       " 1.5529796548153023]"
      ]
     },
     "execution_count": 45,
     "metadata": {},
     "output_type": "execute_result"
    }
   ],
   "source": [
    "k_epsi_list"
   ]
  },
  {
   "cell_type": "code",
   "execution_count": 46,
   "metadata": {},
   "outputs": [],
   "source": [
    "aa = lambda x: (10-x)"
   ]
  },
  {
   "cell_type": "code",
   "execution_count": 47,
   "metadata": {},
   "outputs": [
    {
     "data": {
      "text/plain": [
       "8"
      ]
     },
     "execution_count": 47,
     "metadata": {},
     "output_type": "execute_result"
    }
   ],
   "source": [
    "aa(2)"
   ]
  },
  {
   "cell_type": "code",
   "execution_count": 48,
   "metadata": {},
   "outputs": [
    {
     "data": {
      "text/plain": [
       "array([[1, 2],\n",
       "       [3, 4]])"
      ]
     },
     "execution_count": 48,
     "metadata": {},
     "output_type": "execute_result"
    }
   ],
   "source": [
    "aa = [[1, 2], [3, 4]]\n",
    "np.array(aa)"
   ]
  },
  {
   "cell_type": "code",
   "execution_count": null,
   "metadata": {},
   "outputs": [],
   "source": []
  }
 ],
 "metadata": {
  "@webio": {
   "lastCommId": null,
   "lastKernelId": null
  },
  "kernel_info": {
   "name": "python3"
  },
  "kernelspec": {
   "display_name": "Python 3",
   "language": "python",
   "name": "python3"
  },
  "language_info": {
   "codemirror_mode": {
    "name": "ipython",
    "version": 3
   },
   "file_extension": ".py",
   "mimetype": "text/x-python",
   "name": "python",
   "nbconvert_exporter": "python",
   "pygments_lexer": "ipython3",
   "version": "3.8.3"
  },
  "nteract": {
   "version": "0.14.3"
  }
 },
 "nbformat": 4,
 "nbformat_minor": 4
}